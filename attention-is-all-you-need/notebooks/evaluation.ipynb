{
 "cells": [
  {
   "cell_type": "code",
   "execution_count": 1,
   "metadata": {},
   "outputs": [],
   "source": [
    "import sys\n",
    "import os\n",
    "\n",
    "sys.path.append(os.path.abspath(os.path.join(os.getcwd(), \"..\")))"
   ]
  },
  {
   "cell_type": "code",
   "execution_count": 2,
   "metadata": {},
   "outputs": [
    {
     "name": "stdout",
     "output_type": "stream",
     "text": [
      "Configuration loaded successfully from ../config.json\n"
     ]
    }
   ],
   "source": [
    "from scripts.utils import load_config\n",
    "config = load_config('../config.json')"
   ]
  },
  {
   "cell_type": "code",
   "execution_count": 3,
   "metadata": {},
   "outputs": [
    {
     "name": "stderr",
     "output_type": "stream",
     "text": [
      "/Users/stevenarellano/Desktop/stuff/code/papyrus/.venv/lib/python3.11/site-packages/torch/utils/data/datapipes/iter/combining.py:337: UserWarning: Some child DataPipes are not exhausted when __iter__ is called. We are resetting the buffer and each child DataPipe will read from the start again.\n",
      "  warnings.warn(\"Some child DataPipes are not exhausted when __iter__ is called. We are resetting \"\n"
     ]
    }
   ],
   "source": [
    "from scripts.data_service import DataService\n",
    "\n",
    "BATCH_SIZE = config[\"BATCH_SIZE\"]\n",
    "SRC_LANGUAGE = config[\"SRC_LANGUAGE\"]\n",
    "TGT_LANGUAGE = config[\"TGT_LANGUAGE\"]\n",
    "\n",
    "data_service = DataService(src_language=SRC_LANGUAGE,\n",
    "                           tgt_language=TGT_LANGUAGE, batch_size=BATCH_SIZE)"
   ]
  },
  {
   "cell_type": "code",
   "execution_count": 4,
   "metadata": {},
   "outputs": [
    {
     "name": "stderr",
     "output_type": "stream",
     "text": [
      "/Users/stevenarellano/Desktop/stuff/code/papyrus/.venv/lib/python3.11/site-packages/torch/nn/modules/transformer.py:286: UserWarning: enable_nested_tensor is True, but self.use_nested_tensor is False because encoder_layer.self_attn.batch_first was not True(use batch_first for better inference performance)\n",
      "  warnings.warn(f\"enable_nested_tensor is True, but self.use_nested_tensor is False because {why_not_sparsity_fast_path}\")\n"
     ]
    },
    {
     "name": "stdout",
     "output_type": "stream",
     "text": [
      "Model loaded from .././transformer_model.pth\n"
     ]
    }
   ],
   "source": [
    "import torch\n",
    "\n",
    "from scripts.model_service import ModelService\n",
    "\n",
    "MODEL_SAVE_PATH = \"../\" + config[\"MODEL_SAVE_PATH\"]\n",
    "\n",
    "src_vocab, tgt_vocab = data_service.get_vocabularies()\n",
    "src_vocab_size, tgt_vocab_size = len(src_vocab), len(tgt_vocab)\n",
    "\n",
    "EMBED_DIM = config[\"EMBED_DIM\"]\n",
    "NUM_HEADS = config[\"NUM_HEADS\"]\n",
    "FF_DIM = config[\"FF_DIM\"]\n",
    "NUM_LAYERS = config[\"NUM_LAYERS\"]\n",
    "DROPOUT = config[\"DROPOUT\"]\n",
    "\n",
    "device = torch.device(\"cuda\" if torch.cuda.is_available() else \"cpu\")\n",
    "\n",
    "model_service = ModelService()\n",
    "model = model_service.load_model(\n",
    "    model_path=MODEL_SAVE_PATH,\n",
    "    src_vocab_size=src_vocab_size,\n",
    "    tgt_vocab_size=tgt_vocab_size,\n",
    "    embed_dim=EMBED_DIM,\n",
    "    num_heads=NUM_HEADS,\n",
    "    ff_dim=FF_DIM,\n",
    "    num_layers=NUM_LAYERS,\n",
    "    dropout=DROPOUT,\n",
    "    device=device\n",
    ")"
   ]
  },
  {
   "cell_type": "code",
   "execution_count": null,
   "metadata": {},
   "outputs": [
    {
     "name": "stderr",
     "output_type": "stream",
     "text": [
      "Evaluating: 100%|██████████| 32/32 [01:24<00:00,  2.63s/batch]\n"
     ]
    },
    {
     "name": "stdout",
     "output_type": "stream",
     "text": [
      "Validation Loss: 1.5938\n",
      "BLEU Score: 0.2283\n"
     ]
    }
   ],
   "source": [
    "from tqdm import tqdm\n",
    "from torch import nn\n",
    "from torchtext.data.metrics import bleu_score\n",
    "\n",
    "\n",
    "def evaluate_model(model, valid_loader, criterion, tgt_vocab, device):\n",
    "    \"\"\"\n",
    "    Evaluate the Transformer model on the validation dataset.\n",
    "\n",
    "    Parameters:\n",
    "    - model: The trained Transformer model.\n",
    "    - valid_loader: DataLoader for the validation dataset.\n",
    "    - criterion: Loss function (e.g., CrossEntropyLoss).\n",
    "    - tgt_vocab: Target vocabulary (to map indices to tokens).\n",
    "    - device: The device to perform computation on ('cuda' or 'cpu').\n",
    "\n",
    "    Returns:\n",
    "    - avg_loss: The average loss over the validation dataset.\n",
    "    - bleu: The BLEU score for the validation dataset.\n",
    "    \"\"\"\n",
    "    model.eval()\n",
    "    total_loss = 0\n",
    "    translated_sentences = []\n",
    "    reference_sentences = []\n",
    "\n",
    "    with torch.no_grad():\n",
    "        for src, tgt in tqdm(valid_loader, desc=\"Evaluating\", unit=\"batch\"):\n",
    "            src, tgt = src.to(device), tgt.to(device)\n",
    "            tgt_input = tgt[:-1, :]\n",
    "            tgt_output = tgt[1:, :]\n",
    "\n",
    "            output = model(src, tgt_input)\n",
    "            output = output.view(-1, output.size(-1))\n",
    "            tgt_output = tgt_output.view(-1)\n",
    "\n",
    "            loss = criterion(output, tgt_output)\n",
    "            total_loss += loss.item()\n",
    "\n",
    "            output_tokens = output.argmax(\n",
    "                dim=-1).view(tgt.size(0) - 1, tgt.size(1))\n",
    "            for i in range(output_tokens.size(1)):\n",
    "                translated_sentence = [\n",
    "                    tgt_vocab.get_itos()[token] for token in output_tokens[:, i].tolist()\n",
    "                    if token not in {data_service.PAD_IDX, data_service.BOS_IDX, data_service.EOS_IDX}\n",
    "                ]\n",
    "                reference_sentence = [\n",
    "                    tgt_vocab.get_itos()[token] for token in tgt[1:, i].tolist()\n",
    "                    if token not in {data_service.PAD_IDX, data_service.BOS_IDX, data_service.EOS_IDX}\n",
    "                ]\n",
    "                translated_sentences.append(translated_sentence)\n",
    "                reference_sentences.append([reference_sentence])\n",
    "\n",
    "    avg_loss = total_loss / len(valid_loader)\n",
    "    bleu = bleu_score(translated_sentences, reference_sentences)\n",
    "\n",
    "    print(f\"Validation Loss: {avg_loss:.4f}\")\n",
    "    print(f\"BLEU Score: {bleu:.4f}\")\n",
    "\n",
    "    return avg_loss, bleu\n",
    "\n",
    "\n",
    "criterion = nn.CrossEntropyLoss(ignore_index=data_service.PAD_IDX)\n",
    "valid_loader = data_service.get_valid_loader()\n",
    "\n",
    "valid_loss, valid_bleu = evaluate_model(\n",
    "    model, valid_loader, criterion, tgt_vocab, device)"
   ]
  }
 ],
 "metadata": {
  "kernelspec": {
   "display_name": ".venv",
   "language": "python",
   "name": "python3"
  },
  "language_info": {
   "codemirror_mode": {
    "name": "ipython",
    "version": 3
   },
   "file_extension": ".py",
   "mimetype": "text/x-python",
   "name": "python",
   "nbconvert_exporter": "python",
   "pygments_lexer": "ipython3",
   "version": "3.11.10"
  }
 },
 "nbformat": 4,
 "nbformat_minor": 2
}
