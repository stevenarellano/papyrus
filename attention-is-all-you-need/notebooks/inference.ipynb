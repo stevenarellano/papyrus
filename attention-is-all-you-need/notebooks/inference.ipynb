{
 "cells": [
  {
   "cell_type": "code",
   "execution_count": 1,
   "metadata": {},
   "outputs": [],
   "source": [
    "import sys\n",
    "import os\n",
    "\n",
    "sys.path.append(os.path.abspath(os.path.join(os.getcwd(), \"..\")))"
   ]
  },
  {
   "cell_type": "code",
   "execution_count": 2,
   "metadata": {},
   "outputs": [
    {
     "name": "stdout",
     "output_type": "stream",
     "text": [
      "Configuration loaded successfully from ../config.json\n"
     ]
    }
   ],
   "source": [
    "from scripts.utils import load_config\n",
    "config = load_config('../config.json')"
   ]
  },
  {
   "cell_type": "code",
   "execution_count": 3,
   "metadata": {},
   "outputs": [
    {
     "name": "stderr",
     "output_type": "stream",
     "text": [
      "/Users/stevenarellano/Desktop/stuff/code/papyrus/.venv/lib/python3.11/site-packages/torch/utils/data/datapipes/iter/combining.py:337: UserWarning: Some child DataPipes are not exhausted when __iter__ is called. We are resetting the buffer and each child DataPipe will read from the start again.\n",
      "  warnings.warn(\"Some child DataPipes are not exhausted when __iter__ is called. We are resetting \"\n"
     ]
    }
   ],
   "source": [
    "from scripts.data_service import DataService\n",
    "\n",
    "BATCH_SIZE = config[\"BATCH_SIZE\"]\n",
    "SRC_LANGUAGE = config[\"SRC_LANGUAGE\"]\n",
    "TGT_LANGUAGE = config[\"TGT_LANGUAGE\"]\n",
    "\n",
    "data_service = DataService(src_language=SRC_LANGUAGE,\n",
    "                           tgt_language=TGT_LANGUAGE, batch_size=BATCH_SIZE)\n"
   ]
  },
  {
   "cell_type": "code",
   "execution_count": 4,
   "metadata": {},
   "outputs": [
    {
     "name": "stderr",
     "output_type": "stream",
     "text": [
      "/Users/stevenarellano/Desktop/stuff/code/papyrus/.venv/lib/python3.11/site-packages/torch/nn/modules/transformer.py:286: UserWarning: enable_nested_tensor is True, but self.use_nested_tensor is False because encoder_layer.self_attn.batch_first was not True(use batch_first for better inference performance)\n",
      "  warnings.warn(f\"enable_nested_tensor is True, but self.use_nested_tensor is False because {why_not_sparsity_fast_path}\")\n"
     ]
    },
    {
     "name": "stdout",
     "output_type": "stream",
     "text": [
      "Model loaded from .././transformer_model.pth\n"
     ]
    }
   ],
   "source": [
    "import torch\n",
    "\n",
    "from scripts.model_service import ModelService\n",
    "\n",
    "MODEL_SAVE_PATH = \"../\" + config[\"MODEL_SAVE_PATH\"]\n",
    "\n",
    "src_vocab, tgt_vocab = data_service.get_vocabularies()\n",
    "src_vocab_size, tgt_vocab_size = len(src_vocab), len(tgt_vocab)\n",
    "\n",
    "EMBED_DIM = config[\"EMBED_DIM\"]\n",
    "NUM_HEADS = config[\"NUM_HEADS\"]\n",
    "FF_DIM = config[\"FF_DIM\"]\n",
    "NUM_LAYERS = config[\"NUM_LAYERS\"]\n",
    "DROPOUT = config[\"DROPOUT\"]"
   ]
  },
  {
   "cell_type": "code",
   "execution_count": null,
   "metadata": {},
   "outputs": [],
   "source": [
    "import torch\n",
    "from torchtext.data.utils import get_tokenizer\n",
    "\n",
    "\n",
    "def run_inference(\n",
    "    model,\n",
    "    sentence: str,\n",
    "    src_tokenizer,\n",
    "    tgt_vocab,\n",
    "    src_vocab,\n",
    "    device,\n",
    "    max_len: int = 50,\n",
    "    bos_idx: int = 1,\n",
    "    eos_idx: int = 2\n",
    "):\n",
    "    \"\"\"\n",
    "    Translate a German sentence to English using the trained Transformer model.\n",
    "\n",
    "    Args:\n",
    "        model: The trained Transformer model.\n",
    "        sentence: Input German sentence (str).\n",
    "        src_tokenizer: Tokenizer for the source language.\n",
    "        tgt_vocab: Target vocabulary.\n",
    "        src_vocab: Source vocabulary.\n",
    "        device: Device to perform computation ('cuda' or 'cpu').\n",
    "        max_len: Maximum length of the generated translation.\n",
    "\n",
    "    Returns:\n",
    "        Translated sentence in English (str).\n",
    "    \"\"\"\n",
    "    model.eval()\n",
    "\n",
    "    tokens = [bos_idx] + [src_vocab[token]\n",
    "                          for token in src_tokenizer(sentence)] + [eos_idx]\n",
    "    src_tensor = torch.tensor(tokens, dtype=torch.long).unsqueeze(\n",
    "        1).to(device)  # Shape: (seq_len, 1)\n",
    "\n",
    "    tgt_indices = [bos_idx]\n",
    "\n",
    "    for _ in range(max_len):\n",
    "        tgt_tensor = torch.tensor(\n",
    "            tgt_indices, dtype=torch.long).unsqueeze(1).to(device)\n",
    "\n",
    "        output = model(src_tensor, tgt_tensor)\n",
    "\n",
    "        next_token = output[-1, 0].argmax(dim=-1).item()\n",
    "        tgt_indices.append(next_token)\n",
    "\n",
    "        if next_token == eos_idx:\n",
    "            break\n",
    "\n",
    "    translated_tokens = [tgt_vocab.get_itos()[idx]\n",
    "                         for idx in tgt_indices[1:-1]]\n",
    "    translated_sentence = \" \".join(translated_tokens)\n",
    "    return translated_sentence"
   ]
  },
  {
   "cell_type": "code",
   "execution_count": 5,
   "metadata": {},
   "outputs": [
    {
     "name": "stdout",
     "output_type": "stream",
     "text": [
      "Model loaded from ../transformer_model.pth\n"
     ]
    }
   ],
   "source": [
    "\n",
    "model_service = ModelService()\n",
    "device = torch.device(\"cuda\" if torch.cuda.is_available() else \"cpu\")\n",
    "model = model_service.load_model(\n",
    "    model_path=\"../transformer_model.pth\",\n",
    "    src_vocab_size=src_vocab_size,\n",
    "    tgt_vocab_size=tgt_vocab_size,\n",
    "    embed_dim=EMBED_DIM,\n",
    "    num_heads=NUM_HEADS,\n",
    "    ff_dim=FF_DIM,\n",
    "    num_layers=NUM_LAYERS,\n",
    "    dropout=DROPOUT,\n",
    "    device=device\n",
    ")\n",
    "\n",
    "data_service = DataService()\n",
    "src_vocab, tgt_vocab = data_service.get_vocabularies()\n",
    "src_tokenizer = get_tokenizer(\"spacy\", language=\"de_core_news_sm\")"
   ]
  },
  {
   "cell_type": "code",
   "execution_count": 6,
   "metadata": {},
   "outputs": [
    {
     "name": "stdout",
     "output_type": "stream",
     "text": [
      "Input (German): Hallo?\n",
      "Output (English): <eos> <eos> <eos> <eos> <eos> <eos> <eos> <eos> <eos> <eos> <eos> <eos> <eos> <eos> <eos> <eos> <eos> <eos> <eos> <eos> <eos> <eos> <eos> <eos> <eos> <eos> <eos> <eos> <eos> <eos> <eos> <eos> <eos> <eos> <eos> <eos> <eos> <eos> <eos> <eos> <eos> <eos> <eos> <eos> <eos> <eos> <eos> <eos> <eos>\n"
     ]
    }
   ],
   "source": [
    "\n",
    "german_sentence = \"Hallo?\"\n",
    "english_translation = run_inference(\n",
    "    model=model,\n",
    "    sentence=german_sentence,\n",
    "    src_tokenizer=src_tokenizer,\n",
    "    tgt_vocab=tgt_vocab,\n",
    "    src_vocab=src_vocab,\n",
    "    device=device\n",
    ")\n",
    "\n",
    "print(f\"Input (German): {german_sentence}\")\n",
    "print(f\"Output (English): {english_translation}\")"
   ]
  }
 ],
 "metadata": {
  "kernelspec": {
   "display_name": ".venv",
   "language": "python",
   "name": "python3"
  },
  "language_info": {
   "codemirror_mode": {
    "name": "ipython",
    "version": 3
   },
   "file_extension": ".py",
   "mimetype": "text/x-python",
   "name": "python",
   "nbconvert_exporter": "python",
   "pygments_lexer": "ipython3",
   "version": "3.11.10"
  }
 },
 "nbformat": 4,
 "nbformat_minor": 2
}
